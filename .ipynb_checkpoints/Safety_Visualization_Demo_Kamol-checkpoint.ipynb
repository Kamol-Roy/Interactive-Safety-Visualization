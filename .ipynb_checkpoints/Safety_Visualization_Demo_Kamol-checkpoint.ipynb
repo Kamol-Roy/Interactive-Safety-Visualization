{
 "cells": [
  {
   "cell_type": "code",
   "execution_count": 38,
   "metadata": {},
   "outputs": [
    {
     "name": "stdout",
     "output_type": "stream",
     "text": [
      "C:\\Users\\Kamol\\Anaconda3\\lib\\site-packages\\folium\\__init__.py\n",
      "0.5.0\n"
     ]
    }
   ],
   "source": [
    "import folium\n",
    "\n",
    "print(folium.__file__)\n",
    "print(folium.__version__)"
   ]
  },
  {
   "cell_type": "code",
   "execution_count": 185,
   "metadata": {
    "collapsed": true
   },
   "outputs": [],
   "source": [
    "import re\n",
    "import mplleaflet\n",
    "import matplotlib.pyplot as plt\n",
    "import numpy as np\n",
    "from collections import Counter\n",
    "import pygeohash as gh\n",
    "from datetime import datetime\n",
    "import ast\n",
    "import random\n",
    "import pickle\n",
    "from nltk.corpus import stopwords\n",
    "from nltk.tokenize import word_tokenize\n",
    "from nltk.stem import PorterStemmer\n",
    "from nltk.tokenize import sent_tokenize, word_tokenize\n",
    "import string\n",
    "import sklearn.mixture as mix\n",
    "import nltk\n",
    "import pandas as pd\n",
    "import os\n",
    "import glob\n",
    "import random"
   ]
  },
  {
   "cell_type": "markdown",
   "metadata": {},
   "source": [
    "# Data Module"
   ]
  },
  {
   "cell_type": "code",
   "execution_count": 186,
   "metadata": {},
   "outputs": [],
   "source": [
    "#lets make some synthetic data using 10 clusters\n",
    "28.484729, -81.303576\n",
    "25.900733, -80.257058\n",
    "33.690498, -84.347379\n",
    "30.052072, -95.895370\n",
    "35.496962, -117.322002\n",
    "lat_mu=[28.484729,25.900733,33.690498,30.052072,35.496962]\n",
    "lon_mu= [-81.303576,-80.257058,-84.347379,-95.895370,-117.322002]\n",
    "sigma=.2\n",
    "\n",
    "lats=[]\n",
    "lons=[]\n",
    "\n",
    "for i in range(len(lat_mu)):\n",
    "    for j in np.random.normal(lat_mu[i], sigma, 1000):\n",
    "        lats.append(j)\n",
    "    for j in np.random.normal(lon_mu[i], sigma, 1000):\n",
    "        lons.append(j)    \n",
    "\n",
    "Data_df=pd.DataFrame({})\n",
    "Data_df['lon']=lons\n",
    "Data_df['lat']=lats\n",
    "Data_df['time']=pd.date_range(start='1/1/2018', periods=5000)"
   ]
  },
  {
   "cell_type": "code",
   "execution_count": 187,
   "metadata": {},
   "outputs": [
    {
     "data": {
      "text/html": [
       "<div>\n",
       "<style scoped>\n",
       "    .dataframe tbody tr th:only-of-type {\n",
       "        vertical-align: middle;\n",
       "    }\n",
       "\n",
       "    .dataframe tbody tr th {\n",
       "        vertical-align: top;\n",
       "    }\n",
       "\n",
       "    .dataframe thead th {\n",
       "        text-align: right;\n",
       "    }\n",
       "</style>\n",
       "<table border=\"1\" class=\"dataframe\">\n",
       "  <thead>\n",
       "    <tr style=\"text-align: right;\">\n",
       "      <th></th>\n",
       "      <th>lon</th>\n",
       "      <th>lat</th>\n",
       "      <th>time</th>\n",
       "    </tr>\n",
       "  </thead>\n",
       "  <tbody>\n",
       "    <tr>\n",
       "      <th>0</th>\n",
       "      <td>-80.867671</td>\n",
       "      <td>28.783499</td>\n",
       "      <td>2018-01-01</td>\n",
       "    </tr>\n",
       "    <tr>\n",
       "      <th>1</th>\n",
       "      <td>-81.596725</td>\n",
       "      <td>28.410581</td>\n",
       "      <td>2018-01-02</td>\n",
       "    </tr>\n",
       "    <tr>\n",
       "      <th>2</th>\n",
       "      <td>-81.283918</td>\n",
       "      <td>28.431212</td>\n",
       "      <td>2018-01-03</td>\n",
       "    </tr>\n",
       "    <tr>\n",
       "      <th>3</th>\n",
       "      <td>-81.244029</td>\n",
       "      <td>28.311308</td>\n",
       "      <td>2018-01-04</td>\n",
       "    </tr>\n",
       "    <tr>\n",
       "      <th>4</th>\n",
       "      <td>-81.262465</td>\n",
       "      <td>28.247086</td>\n",
       "      <td>2018-01-05</td>\n",
       "    </tr>\n",
       "  </tbody>\n",
       "</table>\n",
       "</div>"
      ],
      "text/plain": [
       "         lon        lat       time\n",
       "0 -80.867671  28.783499 2018-01-01\n",
       "1 -81.596725  28.410581 2018-01-02\n",
       "2 -81.283918  28.431212 2018-01-03\n",
       "3 -81.244029  28.311308 2018-01-04\n",
       "4 -81.262465  28.247086 2018-01-05"
      ]
     },
     "execution_count": 187,
     "metadata": {},
     "output_type": "execute_result"
    }
   ],
   "source": [
    "Data_df.head()"
   ]
  },
  {
   "cell_type": "markdown",
   "metadata": {},
   "source": [
    "# Social Media Module"
   ]
  },
  {
   "cell_type": "code",
   "execution_count": 188,
   "metadata": {
    "collapsed": true
   },
   "outputs": [],
   "source": [
    "#We run api for 10 minutes to get twitter sample text content"
   ]
  },
  {
   "cell_type": "code",
   "execution_count": 189,
   "metadata": {
    "collapsed": true
   },
   "outputs": [],
   "source": [
    "punct=set(string.punctuation)\n",
    "stop_words = set(stopwords.words('english'))\n",
    "bad_words=[\"b\",\"''\",\"n't\",\"https\",\"'s\",\"'ve\",\"rt\",\"b'rt\"]\n",
    "\n",
    "def text_cleaner(texts):\n",
    "#    texts=texts.split(\"'\")[1]\n",
    "    word_split=word_tokenize(texts)\n",
    "    filtered_word1=[w.lower() for w in word_split if not w in punct]\n",
    "    filtered_word2=[w for w in filtered_word1 if not w in stop_words]\n",
    "    filtered_word2=[w for w in filtered_word2 if not type(w ) in [type(5.0), type(5)]]\n",
    "    filtered_word3=[w for w in filtered_word2 if not w.lower() in bad_words]\n",
    "    filtered_sent=\" \".join(filtered_word3) \n",
    "    filtered_text=\" \".join(filter(lambda x:x[0]!='#', filtered_sent.split()))\n",
    "    filtered_text=\" \".join(filter(lambda x:x[0]!='/', filtered_text.split()))\n",
    "    filtered_text=\" \".join(filter(lambda x:x[0]!=\"\\\\\", filtered_text.split()))\n",
    "    filtered_text=\" \".join(filter(lambda x:x[0]!='https', filtered_text.split()))\n",
    "    filtered_text=\"\".join(word for word in filtered_text if \"\\\\\" not in r\"%r\" % word)\n",
    "    return filtered_text "
   ]
  },
  {
   "cell_type": "code",
   "execution_count": 190,
   "metadata": {},
   "outputs": [],
   "source": [
    "input=r\"C:\\Safety Visualization\\SOM_data.json\"\n",
    "import json\n",
    "\n",
    "Times=[]\n",
    "texts=[]\n",
    "lats=[]\n",
    "lons=[]\n",
    "\n",
    "with open(input,'r') as file:\n",
    "    for line in file:\n",
    "        if len(line)>5:\n",
    "            json_line=json.loads(line)\n",
    "            tweet_id=json_line['id']\n",
    "            user_id=json_line['user']['id']\n",
    "            text=json_line['text']\n",
    "            timestamp=json_line['created_at']\n",
    "            coords=json_line['coordinates']\n",
    "            if str(coords)!='None' and len(text.split())>2:\n",
    "                lat=coords['coordinates'][1]\n",
    "                lon=coords['coordinates'][0]\n",
    "                lats.append(lat)\n",
    "                lons.append(lon)\n",
    "                texts.append(text)\n",
    "#                texts.append(text_cleaner(text))\n",
    "                Times.append(timestamp)\n",
    "            \n"
   ]
  },
  {
   "cell_type": "code",
   "execution_count": 191,
   "metadata": {},
   "outputs": [],
   "source": [
    "SOM_df=pd.DataFrame()\n",
    "SOM_df['Time']=Times\n",
    "SOM_df['lat']=lats\n",
    "SOM_df['lon']=lons\n",
    "SOM_df['texts']=texts\n"
   ]
  },
  {
   "cell_type": "code",
   "execution_count": 192,
   "metadata": {},
   "outputs": [
    {
     "data": {
      "text/html": [
       "<div>\n",
       "<style scoped>\n",
       "    .dataframe tbody tr th:only-of-type {\n",
       "        vertical-align: middle;\n",
       "    }\n",
       "\n",
       "    .dataframe tbody tr th {\n",
       "        vertical-align: top;\n",
       "    }\n",
       "\n",
       "    .dataframe thead th {\n",
       "        text-align: right;\n",
       "    }\n",
       "</style>\n",
       "<table border=\"1\" class=\"dataframe\">\n",
       "  <thead>\n",
       "    <tr style=\"text-align: right;\">\n",
       "      <th></th>\n",
       "      <th>Time</th>\n",
       "      <th>lat</th>\n",
       "      <th>lon</th>\n",
       "      <th>texts</th>\n",
       "    </tr>\n",
       "  </thead>\n",
       "  <tbody>\n",
       "    <tr>\n",
       "      <th>0</th>\n",
       "      <td>Wed Jul 25 05:07:36 +0000 2018</td>\n",
       "      <td>38.485783</td>\n",
       "      <td>-121.512381</td>\n",
       "      <td>Traffic Collision - Unknown Injury: I5 S at ju...</td>\n",
       "    </tr>\n",
       "    <tr>\n",
       "      <th>1</th>\n",
       "      <td>Wed Jul 25 05:08:03 +0000 2018</td>\n",
       "      <td>53.533165</td>\n",
       "      <td>0.003621</td>\n",
       "      <td>Good Morning.\\n\\nI took this photo Sunday afte...</td>\n",
       "    </tr>\n",
       "    <tr>\n",
       "      <th>2</th>\n",
       "      <td>Wed Jul 25 05:08:31 +0000 2018</td>\n",
       "      <td>-28.388680</td>\n",
       "      <td>153.564410</td>\n",
       "      <td>Thanks caba_cottage for this snap and bike rid...</td>\n",
       "    </tr>\n",
       "    <tr>\n",
       "      <th>3</th>\n",
       "      <td>Wed Jul 25 05:12:34 +0000 2018</td>\n",
       "      <td>2.300347</td>\n",
       "      <td>102.310427</td>\n",
       "      <td>Kembali ke melaka darul traffic light (@ Plaza...</td>\n",
       "    </tr>\n",
       "    <tr>\n",
       "      <th>4</th>\n",
       "      <td>Wed Jul 25 05:13:27 +0000 2018</td>\n",
       "      <td>-26.174145</td>\n",
       "      <td>28.230039</td>\n",
       "      <td>(U/D) 145706: Crash (Multi Vehicle) on N12 Wes...</td>\n",
       "    </tr>\n",
       "    <tr>\n",
       "      <th>5</th>\n",
       "      <td>Wed Jul 25 05:15:36 +0000 2018</td>\n",
       "      <td>37.546620</td>\n",
       "      <td>-77.443970</td>\n",
       "      <td>Thanks for letting me crash the party, fellas....</td>\n",
       "    </tr>\n",
       "    <tr>\n",
       "      <th>6</th>\n",
       "      <td>Wed Jul 25 05:16:37 +0000 2018</td>\n",
       "      <td>-26.122567</td>\n",
       "      <td>28.236147</td>\n",
       "      <td>(U/D) 145714: Crash (Multi Vehicle) on R21 Sou...</td>\n",
       "    </tr>\n",
       "    <tr>\n",
       "      <th>7</th>\n",
       "      <td>Wed Jul 25 05:18:29 +0000 2018</td>\n",
       "      <td>33.655007</td>\n",
       "      <td>-84.508747</td>\n",
       "      <td>TTG will be in the building at the Largest Wee...</td>\n",
       "    </tr>\n",
       "    <tr>\n",
       "      <th>8</th>\n",
       "      <td>Wed Jul 25 05:20:54 +0000 2018</td>\n",
       "      <td>29.956825</td>\n",
       "      <td>-90.065356</td>\n",
       "      <td>Tuesday bike nite 🚲 #nola @ FrenchQuarter NewO...</td>\n",
       "    </tr>\n",
       "    <tr>\n",
       "      <th>9</th>\n",
       "      <td>Wed Jul 25 05:28:19 +0000 2018</td>\n",
       "      <td>41.265450</td>\n",
       "      <td>-95.923830</td>\n",
       "      <td>Nebraska &amp;amp; Iowa bridge! Pretty cool! @ Bob...</td>\n",
       "    </tr>\n",
       "  </tbody>\n",
       "</table>\n",
       "</div>"
      ],
      "text/plain": [
       "                             Time        lat         lon  \\\n",
       "0  Wed Jul 25 05:07:36 +0000 2018  38.485783 -121.512381   \n",
       "1  Wed Jul 25 05:08:03 +0000 2018  53.533165    0.003621   \n",
       "2  Wed Jul 25 05:08:31 +0000 2018 -28.388680  153.564410   \n",
       "3  Wed Jul 25 05:12:34 +0000 2018   2.300347  102.310427   \n",
       "4  Wed Jul 25 05:13:27 +0000 2018 -26.174145   28.230039   \n",
       "5  Wed Jul 25 05:15:36 +0000 2018  37.546620  -77.443970   \n",
       "6  Wed Jul 25 05:16:37 +0000 2018 -26.122567   28.236147   \n",
       "7  Wed Jul 25 05:18:29 +0000 2018  33.655007  -84.508747   \n",
       "8  Wed Jul 25 05:20:54 +0000 2018  29.956825  -90.065356   \n",
       "9  Wed Jul 25 05:28:19 +0000 2018  41.265450  -95.923830   \n",
       "\n",
       "                                               texts  \n",
       "0  Traffic Collision - Unknown Injury: I5 S at ju...  \n",
       "1  Good Morning.\\n\\nI took this photo Sunday afte...  \n",
       "2  Thanks caba_cottage for this snap and bike rid...  \n",
       "3  Kembali ke melaka darul traffic light (@ Plaza...  \n",
       "4  (U/D) 145706: Crash (Multi Vehicle) on N12 Wes...  \n",
       "5  Thanks for letting me crash the party, fellas....  \n",
       "6  (U/D) 145714: Crash (Multi Vehicle) on R21 Sou...  \n",
       "7  TTG will be in the building at the Largest Wee...  \n",
       "8  Tuesday bike nite 🚲 #nola @ FrenchQuarter NewO...  \n",
       "9  Nebraska &amp; Iowa bridge! Pretty cool! @ Bob...  "
      ]
     },
     "execution_count": 192,
     "metadata": {},
     "output_type": "execute_result"
    }
   ],
   "source": [
    "SOM_df"
   ]
  },
  {
   "cell_type": "markdown",
   "metadata": {
    "collapsed": true
   },
   "source": [
    "# Analytics Module"
   ]
  },
  {
   "cell_type": "code",
   "execution_count": 193,
   "metadata": {},
   "outputs": [],
   "source": [
    "import numpy as np\n",
    "import pandas as pd\n",
    "import numpy.ma as ma\n",
    "\n",
    "def make_data():\n",
    "    time= pd.date_range(start='7/25/2018', freq='1H',periods=24)\n",
    "    calculated_risk = [random.uniform(0, .7) for i in range(len(time))]\n",
    "    return pd.DataFrame(np.asanyarray([time, calculated_risk]).T, columns=['time', 'risk'])\n",
    "\n",
    "df = make_data()\n",
    "resolution, width, height = 75, 7, 3"
   ]
  },
  {
   "cell_type": "code",
   "execution_count": 194,
   "metadata": {},
   "outputs": [
    {
     "data": {
      "text/html": [
       "<div>\n",
       "<style scoped>\n",
       "    .dataframe tbody tr th:only-of-type {\n",
       "        vertical-align: middle;\n",
       "    }\n",
       "\n",
       "    .dataframe tbody tr th {\n",
       "        vertical-align: top;\n",
       "    }\n",
       "\n",
       "    .dataframe thead th {\n",
       "        text-align: right;\n",
       "    }\n",
       "</style>\n",
       "<table border=\"1\" class=\"dataframe\">\n",
       "  <thead>\n",
       "    <tr style=\"text-align: right;\">\n",
       "      <th></th>\n",
       "      <th>time</th>\n",
       "      <th>risk</th>\n",
       "    </tr>\n",
       "  </thead>\n",
       "  <tbody>\n",
       "    <tr>\n",
       "      <th>0</th>\n",
       "      <td>2018-07-25 00:00:00</td>\n",
       "      <td>0.0514087</td>\n",
       "    </tr>\n",
       "    <tr>\n",
       "      <th>1</th>\n",
       "      <td>2018-07-25 01:00:00</td>\n",
       "      <td>0.0190213</td>\n",
       "    </tr>\n",
       "    <tr>\n",
       "      <th>2</th>\n",
       "      <td>2018-07-25 02:00:00</td>\n",
       "      <td>0.49284</td>\n",
       "    </tr>\n",
       "    <tr>\n",
       "      <th>3</th>\n",
       "      <td>2018-07-25 03:00:00</td>\n",
       "      <td>0.141527</td>\n",
       "    </tr>\n",
       "    <tr>\n",
       "      <th>4</th>\n",
       "      <td>2018-07-25 04:00:00</td>\n",
       "      <td>0.508585</td>\n",
       "    </tr>\n",
       "  </tbody>\n",
       "</table>\n",
       "</div>"
      ],
      "text/plain": [
       "                  time       risk\n",
       "0  2018-07-25 00:00:00  0.0514087\n",
       "1  2018-07-25 01:00:00  0.0190213\n",
       "2  2018-07-25 02:00:00    0.49284\n",
       "3  2018-07-25 03:00:00   0.141527\n",
       "4  2018-07-25 04:00:00   0.508585"
      ]
     },
     "execution_count": 194,
     "metadata": {},
     "output_type": "execute_result"
    }
   ],
   "source": [
    "df.head()"
   ]
  },
  {
   "cell_type": "code",
   "execution_count": 195,
   "metadata": {
    "collapsed": true
   },
   "outputs": [],
   "source": [
    "import base64\n",
    "import matplotlib.pyplot as plt\n",
    "import matplotlib.dates as mdates\n",
    "import matplotlib.ticker as mticker\n",
    "\n",
    "station = '42'\n",
    "fig, ax = plt.subplots(figsize=(width, height))\n",
    "ax.plot(df['time'],df['risk'])\n",
    "\n",
    "fmat = '%H:%M\\n%p'\n",
    "ax.xaxis.set_major_locator(mticker.MaxNLocator(8)) \n",
    "ax.xaxis.set_major_formatter(mdates.DateFormatter(fmat))\n",
    "ax.set_ylim((0,1))\n",
    "ax.set_ylabel('Calculated Risk')\n",
    "png = 'mpld3_{}.png'.format(station)\n",
    "fig.savefig(png, dpi=resolution)\n",
    "\n",
    "encoded = base64.b64encode(open(png, 'rb').read()).decode()"
   ]
  },
  {
   "cell_type": "code",
   "execution_count": 196,
   "metadata": {},
   "outputs": [
    {
     "data": {
      "image/png": "[encoded data removed]",
      "text/plain": [
       "<matplotlib.figure.Figure at 0x1cfe7330a58>"
      ]
     },
     "execution_count": 196,
     "metadata": {},
     "output_type": "execute_result"
    }
   ],
   "source": [
    "fig"
   ]
  },
  {
   "cell_type": "markdown",
   "metadata": {},
   "source": [
    "# Visualization Module "
   ]
  },
  {
   "cell_type": "markdown",
   "metadata": {},
   "source": [
    "## Suggested Layers"
   ]
  },
  {
   "cell_type": "code",
   "execution_count": 197,
   "metadata": {
    "collapsed": true
   },
   "outputs": [],
   "source": [
    "import folium\n",
    "import pandas as pd\n",
    "from folium import plugins\n",
    "from folium import IFrame\n",
    "\n",
    "feature_group = folium.FeatureGroup(name='HeatMap Layer')\n",
    "feature_group1 = folium.FeatureGroup(name='Crowd Sourced Information')\n",
    "feature_group2 = folium.FeatureGroup(name='Trend in Recent Crash History')\n",
    "feature_group3 = folium.FeatureGroup(name='Risk Forecast')\n",
    "feature_group4 = folium.FeatureGroup(name='Crash Modification Factor')\n"
   ]
  },
  {
   "cell_type": "markdown",
   "metadata": {},
   "source": [
    "## Mapping"
   ]
  },
  {
   "cell_type": "markdown",
   "metadata": {},
   "source": [
    "### Add heatmap"
   ]
  },
  {
   "cell_type": "code",
   "execution_count": 198,
   "metadata": {},
   "outputs": [],
   "source": [
    "m = folium.Map([27.5, -81.5], zoom_start=4)\n",
    "\n",
    "data=[[row['lat'],row['lon']] for index, row in Data_df.iterrows()]\n",
    "hm = plugins.HeatMap(data).add_to(feature_group)"
   ]
  },
  {
   "cell_type": "markdown",
   "metadata": {},
   "source": [
    "### Add analytics"
   ]
  },
  {
   "cell_type": "code",
   "execution_count": 203,
   "metadata": {},
   "outputs": [],
   "source": [
    "lat_lon=[(float(row['lat']),float(row['lon'])) for index, row in SOM_df.iterrows()]\n",
    "for lat, lon in lat_lon:\n",
    "\n",
    "    html = '<img src=\"data:image/png;base64,{}\">'.format\n",
    "    iframe = IFrame(html(encoded), width=(width*resolution)+20, height=(height*resolution)+20)\n",
    "    popup = folium.Popup(iframe, max_width=2650)\n",
    "\n",
    "    icon = folium.Icon(color=\"red\", icon=\"ok\")\n",
    "    marker = folium.Marker(location=[lat-2, lon-1], popup=popup, icon=icon).add_to(feature_group3)"
   ]
  },
  {
   "cell_type": "markdown",
   "metadata": {},
   "source": [
    "### Add CMF"
   ]
  },
  {
   "cell_type": "code",
   "execution_count": 204,
   "metadata": {},
   "outputs": [],
   "source": [
    "Combined_cmf='Combined_cmf.png'\n",
    "encoded = base64.b64encode(open(Combined_cmf, 'rb').read()).decode()\n",
    "\n",
    "\n",
    "for lat, lon in lat_lon:\n",
    "    html = '<img src=\"data:image/png;base64,{}\">'.format\n",
    "    iframe = IFrame(html(encoded), width=(width*resolution)+20, height=(height*resolution)+20)\n",
    "    popup = folium.Popup(iframe, max_width=2650)\n",
    "\n",
    "    icon = folium.Icon(color=\"red\", icon=\"ok\")\n",
    "    marker = folium.Marker(location=[lat, lon], popup=popup, icon=icon).add_to(feature_group4)"
   ]
  },
  {
   "cell_type": "markdown",
   "metadata": {},
   "source": [
    "### Add Social Media"
   ]
  },
  {
   "cell_type": "code",
   "execution_count": 205,
   "metadata": {},
   "outputs": [],
   "source": [
    "\n",
    "for i in lat_lon:\n",
    "    df = SOM_df[(SOM_df['lat']==i[0]) & (SOM_df['lon']==i[1])]\n",
    "    df=df.reset_index()\n",
    "#    df['text']=df.apply(lambda x: text_cleaner(x.text), axis=1)\n",
    "    df=df[['Time','texts']].astype(str)\n",
    "    df=df.set_index('Time')\n",
    "    html = df.to_html()\n",
    "    popup = folium.Popup(html,max_width=800)    \n",
    "    folium.Marker(i, popup=popup).add_to(feature_group1)"
   ]
  },
  {
   "cell_type": "markdown",
   "metadata": {},
   "source": [
    "### Combine Everything"
   ]
  },
  {
   "cell_type": "code",
   "execution_count": 207,
   "metadata": {},
   "outputs": [
    {
     "name": "stderr",
     "output_type": "stream",
     "text": [
      "IOPub data rate exceeded.\n",
      "The notebook server will temporarily stop sending output\n",
      "to the client in order to avoid crashing it.\n",
      "To change this limit, set the config variable\n",
      "`--NotebookApp.iopub_data_rate_limit`.\n"
     ]
    }
   ],
   "source": [
    "m.add_child(feature_group)\n",
    "m.add_child(feature_group1)\n",
    "m.add_child(feature_group2)\n",
    "m.add_child(feature_group3)\n",
    "m.add_child(feature_group4)\n",
    "m.add_child(folium.map.LayerControl())"
   ]
  },
  {
   "cell_type": "code",
   "execution_count": null,
   "metadata": {
    "collapsed": true
   },
   "outputs": [],
   "source": []
  }
 ],
 "metadata": {
  "anaconda-cloud": {},
  "kernelspec": {
   "display_name": "Python [conda root]",
   "language": "python",
   "name": "conda-root-py"
  },
  "language_info": {
   "codemirror_mode": {
    "name": "ipython",
    "version": 3
   },
   "file_extension": ".py",
   "mimetype": "text/x-python",
   "name": "python",
   "nbconvert_exporter": "python",
   "pygments_lexer": "ipython3",
   "version": "3.5.2"
  }
 },
 "nbformat": 4,
 "nbformat_minor": 2
}
